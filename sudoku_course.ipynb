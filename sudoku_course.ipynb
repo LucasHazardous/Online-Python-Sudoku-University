{
  "nbformat": 4,
  "nbformat_minor": 0,
  "metadata": {
    "colab": {
      "provenance": [],
      "collapsed_sections": [
        "YefQuIVc16le",
        "o6q9pChjGXUs",
        "v5rkmAjU1YC5",
        "DtyhRX42FJw2",
        "cldtwgoC7vVa",
        "RLv9nCuE_ZTL",
        "DnAB1Jj6CaZM"
      ]
    },
    "kernelspec": {
      "name": "python3",
      "display_name": "Python 3"
    },
    "language_info": {
      "name": "python"
    }
  },
  "cells": [
    {
      "cell_type": "markdown",
      "source": [
        "# What is Sudoku?"
      ],
      "metadata": {
        "id": "YefQuIVc16le"
      }
    },
    {
      "cell_type": "markdown",
      "source": [
        "## Origin\n",
        "\n",
        "The modern game of Sudoku as we recognize it today was invented by Howard Garns, a freelance puzzle inventor from Connersville, Indiana, USA in 1979 when it was published in Dell Pencil Puzzles and Word Games magazine. The puzzle was known as “Number Place,” since it involved placing individual numbers into empty spots on a 9 x 9 grid.\n",
        "\n",
        "The game first appeared in Japan in 1984 where it was given the name “Sudoku,” which is short for a longer expression in Japanese - “Sūji wa dokushin ni kagiru” - which means, “the digits are limited to one occurrence.” Sudoku continues to be highly popular in Japan, where people buy over 600,000 Sudoku magazines per month.\n",
        "\n",
        "One reason that Sudoku puzzles are so beloved in Japan is because the Japanese language doesn't work very well for crossword puzzles - so a number puzzle was much more successful in Japanese culture. Also, Japan tends to love puzzles, since it is a country where millions of people make lengthy commutes by train or bus, and they need to kill time while waiting for the next stop.\n",
        "\n",
        "[Source](https://sudoku.com/how-to-play/the-history-of-sudoku/)\n",
        "\n",
        "## Objective\n",
        "\n",
        "Sudoku is a logic-based, combinatorial number-placement puzzle. Puzzles consist of a 9x9 grid divided into nine 3x3 subgrids. The objective is to fill in the grid with numbers from 1 to 9, ensuring that each row, each column, and each 3x3 subgrid contains all the numbers from 1 to 9, with no repetition."
      ],
      "metadata": {
        "id": "NP5Y3JVp2xcV"
      }
    },
    {
      "cell_type": "markdown",
      "source": [
        "# Python Sudoku Algorithms"
      ],
      "metadata": {
        "id": "QLNq4YyN5TtC"
      }
    },
    {
      "cell_type": "markdown",
      "source": [
        "## Sudoku board examples"
      ],
      "metadata": {
        "id": "o6q9pChjGXUs"
      }
    },
    {
      "cell_type": "code",
      "source": [
        "# Examples of Sudoku boards, where 0 is an empty value\n",
        "\n",
        "board1 = [\n",
        "    [5, 3, 0, 0, 7, 0, 0, 0, 0],\n",
        "    [6, 0, 0, 1, 9, 5, 0, 0, 0],\n",
        "    [0, 9, 8, 0, 0, 0, 0, 6, 0],\n",
        "    [8, 0, 0, 0, 6, 0, 0, 0, 3],\n",
        "    [4, 0, 0, 8, 0, 3, 0, 0, 1],\n",
        "    [7, 0, 0, 0, 2, 0, 0, 0, 6],\n",
        "    [0, 6, 0, 0, 0, 0, 2, 8, 0],\n",
        "    [0, 0, 0, 4, 1, 9, 0, 0, 5],\n",
        "    [0, 0, 0, 0, 8, 0, 0, 7, 9]\n",
        "]\n",
        "\n",
        "board1_solved = [\n",
        "    [5, 3, 4, 6, 7, 8, 9, 1, 2],\n",
        "    [6, 7, 2, 1, 9, 5, 3, 4, 8],\n",
        "    [1, 9, 8, 3, 4, 2, 5, 6, 7],\n",
        "    [8, 5, 9, 7, 6, 1, 4, 2, 3],\n",
        "    [4, 2, 6, 8, 5, 3, 7, 9, 1],\n",
        "    [7, 1, 3, 9, 2, 4, 8, 5, 6],\n",
        "    [9, 6, 1, 5, 3, 7, 2, 8, 4],\n",
        "    [2, 8, 7, 4, 1, 9, 6, 3, 5],\n",
        "    [3, 4, 5, 2, 8, 6, 1, 7, 9]\n",
        "]\n",
        "\n",
        "\n",
        "valid = [board1, board1_solved]\n",
        "\n",
        "invalid_board1 = [\n",
        "    [1, 2, 3, 4, 5, 6, 7, 8, 9],\n",
        "    [4, 5, 6, 7, 8, 9, 1, 2, 3],\n",
        "    [7, 8, 9, 1, 2, 3, 4, 5, 6],\n",
        "    [2, 3, 1, 5, 6, 4, 8, 9, 7],\n",
        "    [5, 6, 4, 8, 9, 7, 2, 3, 1],\n",
        "    [8, 9, 7, 2, 3, 1, 5, 6, 4],\n",
        "    [3, 1, 2, 6, 4, 5, 9, 7, 8],\n",
        "    [6, 4, 5, 9, 7, 8, 3, 1, 2],\n",
        "    [9, 7, 8, 3, 1, 2, 6, 4, 1]\n",
        "]\n",
        "\n",
        "invalid_partial_board1 = [\n",
        "    [5, 3, 0, 0, 7, 0, 0, 0, 1],\n",
        "    [6, 0, 0, 1, 9, 5, 0, 0, 0],\n",
        "    [0, 9, 8, 0, 0, 0, 0, 6, 0],\n",
        "    [8, 0, 0, 0, 6, 0, 0, 0, 3],\n",
        "    [4, 0, 0, 8, 0, 3, 0, 0, 1],\n",
        "    [7, 0, 0, 0, 2, 0, 0, 0, 6],\n",
        "    [0, 6, 0, 0, 0, 0, 2, 8, 0],\n",
        "    [0, 0, 0, 4, 1, 9, 0, 0, 5],\n",
        "    [0, 0, 0, 0, 8, 0, 0, 7, 9]\n",
        "]\n",
        "\n",
        "invalid = [invalid_board1, invalid_partial_board1]\n"
      ],
      "metadata": {
        "id": "vrxj2-rn5Naw"
      },
      "execution_count": null,
      "outputs": []
    },
    {
      "cell_type": "markdown",
      "source": [
        "## OOP\n",
        "Before we implement Sudoku algorithms, we need to create appropriate classes."
      ],
      "metadata": {
        "id": "EtmtVZ2GiNMQ"
      }
    },
    {
      "cell_type": "markdown",
      "source": [
        "### **Task**: Implement Cell class\n",
        "\n",
        "Constructor takes one argument, *value* which defaults to zero and it does not allow for values going out of range 0-9. Implement getter and setter for *value*. Setter has to check before inserting:\n",
        "*   new value is greater than or equal to 0\n",
        "*   new value is smaller than 10\n",
        "\n",
        "Additionally there should be a \\_\\_str\\_\\_ method."
      ],
      "metadata": {
        "id": "MMRoBrxDuB9o"
      }
    },
    {
      "cell_type": "code",
      "source": [
        "class Cell():\n",
        "  pass"
      ],
      "metadata": {
        "id": "a469EvNHu515"
      },
      "execution_count": null,
      "outputs": []
    },
    {
      "cell_type": "markdown",
      "source": [
        "## **Solution**: Implement Cell class"
      ],
      "metadata": {
        "id": "v5rkmAjU1YC5"
      }
    },
    {
      "cell_type": "code",
      "source": [
        "class Cell():\n",
        "  def __init__(self, value: int = 0) -> None: # https://peps.python.org/pep-0484/\n",
        "    self.__value = 0\n",
        "    self.value = value\n",
        "\n",
        "  @property\n",
        "  def value(self) -> int:\n",
        "    return self.__value\n",
        "\n",
        "  @value.setter\n",
        "  def value(self, value: int) -> None:\n",
        "    if value < 10 and value >= 0:\n",
        "      self.__value = value\n",
        "\n",
        "  def __str__(self) -> str:\n",
        "    return str(self.value)"
      ],
      "metadata": {
        "id": "a4tS-NXA1elG"
      },
      "execution_count": null,
      "outputs": []
    },
    {
      "cell_type": "markdown",
      "source": [
        "## SudokuBoard Class\n",
        "\n",
        "This class utilizes our Cell class. It has all the methods required for editing Sudoku board, where each method ensures validity of an operation."
      ],
      "metadata": {
        "id": "uGUw-H3jEXmh"
      }
    },
    {
      "cell_type": "code",
      "source": [
        "from typing import List, Iterator\n",
        "\n",
        "class SudokuBoard():\n",
        "  def __init__(self, board: List[List[int]] = None, safe: bool = True) -> None:\n",
        "    gen_empty_check = lambda: [[False] * 9 for _ in range(9)]\n",
        "    self._row_check = gen_empty_check()\n",
        "    self._column_check = gen_empty_check()\n",
        "    self._square_check = gen_empty_check()\n",
        "    self.__board = [[Cell() for _ in range(9)] for _ in range(9)]\n",
        "    self._safe = safe\n",
        "    if board:\n",
        "      for i, row in enumerate(board):\n",
        "        for j, num in enumerate(row):\n",
        "          if safe:\n",
        "            self.insert_value(num, i, j)\n",
        "          else:\n",
        "            self.unsafe_insert_value(num, i, j)\n",
        "\n",
        "  def insert_value(self, val: int, row: int, column: int) -> bool:\n",
        "    if val != 0 and not self._row_check[row][val-1] and not self._column_check[column][val-1] and not self._square_check[row // 3 * 3 + column // 3][val-1]:\n",
        "      self._row_check[row][val-1] = True\n",
        "      self._column_check[column][val-1] = True\n",
        "      self._square_check[row // 3 * 3 + column // 3][val-1] = True\n",
        "\n",
        "      self.__board[row][column].value = val\n",
        "      return True\n",
        "    return False\n",
        "\n",
        "  def unsafe_insert_value(self, val: int, row: int, column: int) -> None:\n",
        "    self.__board[row][column].value = val\n",
        "    self._safe = False\n",
        "\n",
        "  def reset_cell(self, row: int, column: int) -> None:\n",
        "    val = self.get_value(row, column)\n",
        "    if val:\n",
        "      self.__board[row][column].value = 0\n",
        "\n",
        "      self._row_check[row][val-1] = False\n",
        "      self._column_check[column][val-1] = False\n",
        "      self._square_check[row // 3 * 3 + column // 3][val-1] = False\n",
        "\n",
        "  def get_value(self, row: int, column: int) -> int | None:\n",
        "    if row >= 0 and row < 9 and column >= 0 and column < 9:\n",
        "      return self.__board[row][column].value\n",
        "\n",
        "  def __str__(self) -> str:\n",
        "    return \"\\n\".join(map(lambda row: \" \".join(str(cell) for cell in row), self.__board))\n",
        "\n",
        "  def __iter__(self) -> Iterator[List[int]]:\n",
        "    for row in self.__board:\n",
        "      yield list(map(lambda x: x.value, row))\n",
        "\n",
        "s = SudokuBoard()\n",
        "print(s)"
      ],
      "metadata": {
        "id": "z4jHCy-NiOqK"
      },
      "execution_count": null,
      "outputs": []
    },
    {
      "cell_type": "markdown",
      "source": [
        "## **Task**: Implement solving Sudoku board\n",
        "\n",
        "Solving a Sudoku board requires backtracking algorithm. It will visit each empty cell (with a zero) and attempt to insert a value. If the value is valid, it goes to the next empty cell. If it is not valid, it tries another one.\n",
        "\n",
        " There may be a number that's valid to insert now, which makes it impossible to solve a solvable board. That's when backtracking comes in. When we see that there are no valid numbers to insert in an empty cell we reset it, and we go to the previous empty cell, we try other valid options and go back to the same cell, when the position has changed. It may even be the case that we must go back to the first empty cell we visited and change it to other valid value. We will implement backtracking using recursion.\n",
        "\n",
        "For our solve implementation we should also check if the board is safe, otherwise solving does not make sense."
      ],
      "metadata": {
        "id": "iRZGqkde_QLT"
      }
    },
    {
      "cell_type": "code",
      "source": [
        "from typing import Tuple\n",
        "\n",
        "class PowerfulSudokuBoard(SudokuBoard):\n",
        "  def find_empty(self) -> Tuple[int, int] | None:\n",
        "    for i in range(9):\n",
        "      for j in range(9):\n",
        "        if self.get_value(i, j) == 0: return (i, j)\n",
        "    return None\n",
        "\n",
        "  def solve(self) -> bool:\n",
        "    pass\n",
        "\n",
        "  def validate(self) -> bool:\n",
        "    pass\n",
        "\n",
        "# Test solve method\n",
        "s = PowerfulSudokuBoard(board1)\n",
        "print(s)\n",
        "print(\"=\" * 20)\n",
        "s.solve()\n",
        "assert list(s) == board1_solved\n",
        "print(s)\n",
        "\n",
        "# Test validate method\n",
        "for board in valid:\n",
        "  assert PowerfulSudokuBoard(board).validate()\n",
        "\n",
        "# Here we will create invalid boards for testing purposes, so safe is set to False, meaning that all internal validation will be bypassed\n",
        "for board in invalid:\n",
        "  assert not PowerfulSudokuBoard(board, safe=False).validate()\n",
        "\n",
        "# We can see that by default an invalid board will not be initialized\n",
        "for board in invalid:\n",
        "  assert PowerfulSudokuBoard(board).validate()\n",
        "\n",
        "print(\"All tests passed\")"
      ],
      "metadata": {
        "id": "mOetb4Qqqzsl"
      },
      "execution_count": null,
      "outputs": []
    },
    {
      "cell_type": "markdown",
      "source": [
        "## **Solution**: Implement solving Sudoku board"
      ],
      "metadata": {
        "id": "DtyhRX42FJw2"
      }
    },
    {
      "cell_type": "code",
      "source": [
        "def solve(self) -> bool:\n",
        "  if not self._safe: return False\n",
        "\n",
        "  empty_pos = self.find_empty()\n",
        "  if empty_pos:\n",
        "    i, j = empty_pos\n",
        "    for num in range(1, 10):\n",
        "      if self.insert_value(num, i, j) and self.solve():\n",
        "        return True\n",
        "      self.reset_cell(i, j)\n",
        "    return False\n",
        "  return True"
      ],
      "metadata": {
        "id": "ZI1OB9qLFN5W"
      },
      "execution_count": null,
      "outputs": []
    },
    {
      "cell_type": "markdown",
      "source": [
        "## **Task**: Implement validation method\n",
        "\n",
        "What if we want our board to be safe again? After we made sure it is, we have to make our class assured too. Validation algorithm should set safe value to True if the board is valid.\n",
        "\n",
        " This algorithm should validate 9x9 Sudoku board, meaning it has to check if every column, row and sub-grid are valid (having exactly one number from 1-9), zeros denote empty values, ex. row can have any amount of zeros."
      ],
      "metadata": {
        "id": "5jznNIzwC3vx"
      }
    },
    {
      "cell_type": "markdown",
      "source": [
        "## **Solution**: Implement validation method"
      ],
      "metadata": {
        "id": "cldtwgoC7vVa"
      }
    },
    {
      "cell_type": "code",
      "source": [
        "  def validate(self) -> bool:\n",
        "    gen_empty_list = lambda: [[False] * 9 for _ in range(9)]\n",
        "    self._row_check = gen_empty_list()\n",
        "    self._column_check = gen_empty_list()\n",
        "    self._square_check = gen_empty_list()\n",
        "\n",
        "    for i in range(9):\n",
        "      for j in range(9):\n",
        "        val = self.get_value(i, j)\n",
        "        if val == 0: continue\n",
        "        if not self.insert_value(val, i, j):\n",
        "          return False\n",
        "    self._safe = True\n",
        "    return True"
      ],
      "metadata": {
        "id": "WDmpPpsl7zOh"
      },
      "execution_count": null,
      "outputs": []
    },
    {
      "cell_type": "markdown",
      "source": [
        "## **Task**: Generating a solvable Sudoku board\n",
        "\n",
        "Three diagonal squares (sub-grids of the sudoku board) from top left to right bottom are independent of each other. That means that we can fill each one in a random configuration with numbers 1-9. When we do so, we have to fill the rest of the board. For that we can use our solving algorithm. The last step is to specify how many empty cells we want and empty random positions on the board."
      ],
      "metadata": {
        "id": "YvRNmqcWH0Uy"
      }
    },
    {
      "cell_type": "code",
      "source": [
        "import random\n",
        "\n",
        "def generate_sudoku_board(empty_count: int) -> PowerfulSudokuBoard:\n",
        "  pass\n",
        "\n",
        "b = generate_sudoku_board(10)\n",
        "assert b.validate()\n",
        "print(b)"
      ],
      "metadata": {
        "id": "SmBwedSwjc0q"
      },
      "execution_count": null,
      "outputs": []
    },
    {
      "cell_type": "markdown",
      "source": [
        "## **Solution**: Generating a solvable Sudoku board"
      ],
      "metadata": {
        "id": "RLv9nCuE_ZTL"
      }
    },
    {
      "cell_type": "code",
      "source": [
        "def generate_sudoku_board(empty_count: int) -> PowerfulSudokuBoard:\n",
        "  board = [[0] * 9 for _ in range(9)]\n",
        "  for k in range(3):\n",
        "    nums = [i for i in range(1, 10)]\n",
        "    random.shuffle(nums)\n",
        "    for i in range(k*3, k*3+3):\n",
        "      for j in range(k*3, k*3+3):\n",
        "        board[i][j] = nums.pop()\n",
        "\n",
        "  board = PowerfulSudokuBoard(board)\n",
        "  board.solve()\n",
        "  empty = [i for i in range(81)][:empty_count]\n",
        "  random.shuffle(empty)\n",
        "  for empty_pos in empty:\n",
        "    board.reset_cell(empty_pos//9, empty_pos%9)\n",
        "  return board"
      ],
      "metadata": {
        "id": "ErlWBr2S_cpK"
      },
      "execution_count": null,
      "outputs": []
    },
    {
      "cell_type": "markdown",
      "source": [
        "# The end"
      ],
      "metadata": {
        "id": "DnAB1Jj6CaZM"
      }
    },
    {
      "cell_type": "markdown",
      "source": [
        "## Congratulations, Graduates of Online Python Sudoku University!\n",
        "\n",
        "You've reached the summit of your Sudoku journey, armed with Python as your trusty companion. Your dedication, perseverance, and love for puzzles have brought you to this momentous occasion. As you embark on the next chapter of your life, remember these valuable lessons you've learned: Python is cool, backtracking exists and it does not matter how slowly you go as long as you do not stop."
      ],
      "metadata": {
        "id": "gdU42bRzCfH-"
      }
    }
  ]
}